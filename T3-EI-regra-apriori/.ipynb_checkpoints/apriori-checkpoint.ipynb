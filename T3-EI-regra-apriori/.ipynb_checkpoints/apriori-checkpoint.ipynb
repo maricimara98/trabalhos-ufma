{
 "cells": [
  {
   "cell_type": "code",
   "execution_count": 164,
   "metadata": {},
   "outputs": [],
   "source": [
    "#!/usr/bin/env python\n",
    "\"\"\"\n",
    "Algoritmo Apriori - base https://rasbt.github.io/mlxtend/\n",
    "\"\"\"\n",
    "import numpy as np\n",
    "import pandas as pd\n",
    "from mlxtend.preprocessing import TransactionEncoder\n",
    "from mlxtend.frequent_patterns import association_rules\n",
    "from mlxtend.frequent_patterns import apriori, association_rules"
   ]
  },
  {
   "cell_type": "code",
   "execution_count": 165,
   "metadata": {
    "tags": []
   },
   "outputs": [],
   "source": [
    "#https://www.kaggle.com/irfanasrullah/groceries\n",
    "dados = pd.read_csv('groceries - groceries.csv', usecols = [1,2,3,4,5,6,7,8,9,10,11,12,\n",
    "                                                         13,14,15,16,17,18,19,20,21,\n",
    "                                                         22,23,24,25,26,27,28,29,30,\n",
    "                                                         31,32])"
   ]
  },
  {
   "cell_type": "markdown",
   "metadata": {},
   "source": [
    "Trocar os valores não ocupados por 0"
   ]
  },
  {
   "cell_type": "code",
   "execution_count": 166,
   "metadata": {},
   "outputs": [
    {
     "data": {
      "text/html": [
       "<div>\n",
       "<style scoped>\n",
       "    .dataframe tbody tr th:only-of-type {\n",
       "        vertical-align: middle;\n",
       "    }\n",
       "\n",
       "    .dataframe tbody tr th {\n",
       "        vertical-align: top;\n",
       "    }\n",
       "\n",
       "    .dataframe thead th {\n",
       "        text-align: right;\n",
       "    }\n",
       "</style>\n",
       "<table border=\"1\" class=\"dataframe\">\n",
       "  <thead>\n",
       "    <tr style=\"text-align: right;\">\n",
       "      <th></th>\n",
       "      <th>Item 1</th>\n",
       "      <th>Item 2</th>\n",
       "      <th>Item 3</th>\n",
       "      <th>Item 4</th>\n",
       "      <th>Item 5</th>\n",
       "      <th>Item 6</th>\n",
       "      <th>Item 7</th>\n",
       "      <th>Item 8</th>\n",
       "      <th>Item 9</th>\n",
       "      <th>Item 10</th>\n",
       "      <th>...</th>\n",
       "      <th>Item 23</th>\n",
       "      <th>Item 24</th>\n",
       "      <th>Item 25</th>\n",
       "      <th>Item 26</th>\n",
       "      <th>Item 27</th>\n",
       "      <th>Item 28</th>\n",
       "      <th>Item 29</th>\n",
       "      <th>Item 30</th>\n",
       "      <th>Item 31</th>\n",
       "      <th>Item 32</th>\n",
       "    </tr>\n",
       "  </thead>\n",
       "  <tbody>\n",
       "    <tr>\n",
       "      <th>0</th>\n",
       "      <td>citrus fruit</td>\n",
       "      <td>semi-finished bread</td>\n",
       "      <td>margarine</td>\n",
       "      <td>ready soups</td>\n",
       "      <td>0</td>\n",
       "      <td>0</td>\n",
       "      <td>0</td>\n",
       "      <td>0</td>\n",
       "      <td>0</td>\n",
       "      <td>0</td>\n",
       "      <td>...</td>\n",
       "      <td>0</td>\n",
       "      <td>0</td>\n",
       "      <td>0</td>\n",
       "      <td>0</td>\n",
       "      <td>0</td>\n",
       "      <td>0</td>\n",
       "      <td>0</td>\n",
       "      <td>0</td>\n",
       "      <td>0</td>\n",
       "      <td>0</td>\n",
       "    </tr>\n",
       "    <tr>\n",
       "      <th>1</th>\n",
       "      <td>tropical fruit</td>\n",
       "      <td>yogurt</td>\n",
       "      <td>coffee</td>\n",
       "      <td>0</td>\n",
       "      <td>0</td>\n",
       "      <td>0</td>\n",
       "      <td>0</td>\n",
       "      <td>0</td>\n",
       "      <td>0</td>\n",
       "      <td>0</td>\n",
       "      <td>...</td>\n",
       "      <td>0</td>\n",
       "      <td>0</td>\n",
       "      <td>0</td>\n",
       "      <td>0</td>\n",
       "      <td>0</td>\n",
       "      <td>0</td>\n",
       "      <td>0</td>\n",
       "      <td>0</td>\n",
       "      <td>0</td>\n",
       "      <td>0</td>\n",
       "    </tr>\n",
       "    <tr>\n",
       "      <th>2</th>\n",
       "      <td>whole milk</td>\n",
       "      <td>0</td>\n",
       "      <td>0</td>\n",
       "      <td>0</td>\n",
       "      <td>0</td>\n",
       "      <td>0</td>\n",
       "      <td>0</td>\n",
       "      <td>0</td>\n",
       "      <td>0</td>\n",
       "      <td>0</td>\n",
       "      <td>...</td>\n",
       "      <td>0</td>\n",
       "      <td>0</td>\n",
       "      <td>0</td>\n",
       "      <td>0</td>\n",
       "      <td>0</td>\n",
       "      <td>0</td>\n",
       "      <td>0</td>\n",
       "      <td>0</td>\n",
       "      <td>0</td>\n",
       "      <td>0</td>\n",
       "    </tr>\n",
       "    <tr>\n",
       "      <th>3</th>\n",
       "      <td>pip fruit</td>\n",
       "      <td>yogurt</td>\n",
       "      <td>cream cheese</td>\n",
       "      <td>meat spreads</td>\n",
       "      <td>0</td>\n",
       "      <td>0</td>\n",
       "      <td>0</td>\n",
       "      <td>0</td>\n",
       "      <td>0</td>\n",
       "      <td>0</td>\n",
       "      <td>...</td>\n",
       "      <td>0</td>\n",
       "      <td>0</td>\n",
       "      <td>0</td>\n",
       "      <td>0</td>\n",
       "      <td>0</td>\n",
       "      <td>0</td>\n",
       "      <td>0</td>\n",
       "      <td>0</td>\n",
       "      <td>0</td>\n",
       "      <td>0</td>\n",
       "    </tr>\n",
       "    <tr>\n",
       "      <th>4</th>\n",
       "      <td>other vegetables</td>\n",
       "      <td>whole milk</td>\n",
       "      <td>condensed milk</td>\n",
       "      <td>long life bakery product</td>\n",
       "      <td>0</td>\n",
       "      <td>0</td>\n",
       "      <td>0</td>\n",
       "      <td>0</td>\n",
       "      <td>0</td>\n",
       "      <td>0</td>\n",
       "      <td>...</td>\n",
       "      <td>0</td>\n",
       "      <td>0</td>\n",
       "      <td>0</td>\n",
       "      <td>0</td>\n",
       "      <td>0</td>\n",
       "      <td>0</td>\n",
       "      <td>0</td>\n",
       "      <td>0</td>\n",
       "      <td>0</td>\n",
       "      <td>0</td>\n",
       "    </tr>\n",
       "  </tbody>\n",
       "</table>\n",
       "<p>5 rows × 32 columns</p>\n",
       "</div>"
      ],
      "text/plain": [
       "             Item 1               Item 2          Item 3  \\\n",
       "0      citrus fruit  semi-finished bread       margarine   \n",
       "1    tropical fruit               yogurt          coffee   \n",
       "2        whole milk                    0               0   \n",
       "3         pip fruit               yogurt    cream cheese   \n",
       "4  other vegetables           whole milk  condensed milk   \n",
       "\n",
       "                     Item 4 Item 5 Item 6 Item 7 Item 8 Item 9 Item 10  ...  \\\n",
       "0               ready soups      0      0      0      0      0       0  ...   \n",
       "1                         0      0      0      0      0      0       0  ...   \n",
       "2                         0      0      0      0      0      0       0  ...   \n",
       "3              meat spreads      0      0      0      0      0       0  ...   \n",
       "4  long life bakery product      0      0      0      0      0       0  ...   \n",
       "\n",
       "  Item 23 Item 24 Item 25 Item 26 Item 27 Item 28 Item 29 Item 30 Item 31  \\\n",
       "0       0       0       0       0       0       0       0       0       0   \n",
       "1       0       0       0       0       0       0       0       0       0   \n",
       "2       0       0       0       0       0       0       0       0       0   \n",
       "3       0       0       0       0       0       0       0       0       0   \n",
       "4       0       0       0       0       0       0       0       0       0   \n",
       "\n",
       "  Item 32  \n",
       "0       0  \n",
       "1       0  \n",
       "2       0  \n",
       "3       0  \n",
       "4       0  \n",
       "\n",
       "[5 rows x 32 columns]"
      ]
     },
     "execution_count": 166,
     "metadata": {},
     "output_type": "execute_result"
    }
   ],
   "source": [
    "dados.replace(np.nan, 0, inplace = True)\n",
    "dados.head()"
   ]
  },
  {
   "cell_type": "markdown",
   "metadata": {},
   "source": [
    "Remover esses 0 dos conjuntos"
   ]
  },
  {
   "cell_type": "code",
   "execution_count": 167,
   "metadata": {},
   "outputs": [],
   "source": [
    "def removeOcorrenciasLista(_list, value):\n",
    "    #filtrar os dados que iram para a lista\n",
    "    return list(filter(lambda x: x != value, _list))\n",
    "\n",
    "listar_transacoes = []\n",
    "\n",
    "for i, row in dados.iterrows():\n",
    "    transacao = row.values.tolist()\n",
    "    transacao = removeOcorrenciasLista(transacao, 0)\n",
    "    listar_transacoes.append(transacao)"
   ]
  },
  {
   "cell_type": "markdown",
   "metadata": {},
   "source": [
    "Quantidade de transações da base de dados"
   ]
  },
  {
   "cell_type": "code",
   "execution_count": 168,
   "metadata": {},
   "outputs": [
    {
     "data": {
      "text/plain": [
       "9835"
      ]
     },
     "execution_count": 168,
     "metadata": {},
     "output_type": "execute_result"
    }
   ],
   "source": [
    "len(listar_transacoes)"
   ]
  },
  {
   "cell_type": "code",
   "execution_count": 169,
   "metadata": {},
   "outputs": [],
   "source": [
    "te = TransactionEncoder()\n",
    "te_ary = te.fit(listar_transacoes).transform(listar_transacoes)\n",
    "dados = pd.DataFrame(te_ary, columns=te.columns_)"
   ]
  },
  {
   "cell_type": "markdown",
   "metadata": {},
   "source": [
    "O algoritmo apriori é usado para analizar a frequencia de itens no conjunto, neste exemplo usaremos um suporte minimo de 0.01 (1%)"
   ]
  },
  {
   "cell_type": "code",
   "execution_count": 170,
   "metadata": {},
   "outputs": [],
   "source": [
    "frequencia_itens_conjunto = apriori(dados, min_support = 0.01, use_colnames = True)"
   ]
  },
  {
   "cell_type": "markdown",
   "metadata": {},
   "source": [
    "Para verificar qual conjunto possui maior e menor suporte só precisamos ordernar por suporte"
   ]
  },
  {
   "cell_type": "code",
   "execution_count": 171,
   "metadata": {},
   "outputs": [
    {
     "data": {
      "text/html": [
       "<div>\n",
       "<style scoped>\n",
       "    .dataframe tbody tr th:only-of-type {\n",
       "        vertical-align: middle;\n",
       "    }\n",
       "\n",
       "    .dataframe tbody tr th {\n",
       "        vertical-align: top;\n",
       "    }\n",
       "\n",
       "    .dataframe thead th {\n",
       "        text-align: right;\n",
       "    }\n",
       "</style>\n",
       "<table border=\"1\" class=\"dataframe\">\n",
       "  <thead>\n",
       "    <tr style=\"text-align: right;\">\n",
       "      <th></th>\n",
       "      <th>support</th>\n",
       "      <th>itemsets</th>\n",
       "    </tr>\n",
       "  </thead>\n",
       "  <tbody>\n",
       "    <tr>\n",
       "      <th>86</th>\n",
       "      <td>0.255516</td>\n",
       "      <td>(whole milk)</td>\n",
       "    </tr>\n",
       "  </tbody>\n",
       "</table>\n",
       "</div>"
      ],
      "text/plain": [
       "     support      itemsets\n",
       "86  0.255516  (whole milk)"
      ]
     },
     "execution_count": 171,
     "metadata": {},
     "output_type": "execute_result"
    }
   ],
   "source": [
    "frequencia_itens_conjunto.sort_values(by=['support'], ascending = False).head(1)"
   ]
  },
  {
   "cell_type": "code",
   "execution_count": 172,
   "metadata": {},
   "outputs": [
    {
     "data": {
      "text/html": [
       "<div>\n",
       "<style scoped>\n",
       "    .dataframe tbody tr th:only-of-type {\n",
       "        vertical-align: middle;\n",
       "    }\n",
       "\n",
       "    .dataframe tbody tr th {\n",
       "        vertical-align: top;\n",
       "    }\n",
       "\n",
       "    .dataframe thead th {\n",
       "        text-align: right;\n",
       "    }\n",
       "</style>\n",
       "<table border=\"1\" class=\"dataframe\">\n",
       "  <thead>\n",
       "    <tr style=\"text-align: right;\">\n",
       "      <th></th>\n",
       "      <th>support</th>\n",
       "      <th>itemsets</th>\n",
       "    </tr>\n",
       "  </thead>\n",
       "  <tbody>\n",
       "    <tr>\n",
       "      <th>199</th>\n",
       "      <td>0.010066</td>\n",
       "      <td>(hard cheese, whole milk)</td>\n",
       "    </tr>\n",
       "  </tbody>\n",
       "</table>\n",
       "</div>"
      ],
      "text/plain": [
       "      support                   itemsets\n",
       "199  0.010066  (hard cheese, whole milk)"
      ]
     },
     "execution_count": 172,
     "metadata": {},
     "output_type": "execute_result"
    }
   ],
   "source": [
    "frequencia_itens_conjunto.sort_values(by=['support'], ascending = True).head(1)"
   ]
  },
  {
   "cell_type": "markdown",
   "metadata": {},
   "source": [
    "Isso siginifica que o conjunto mais comprado é o whole milk (25%) sem outro item, e que a compra de whole milk com hard cheese é menos comum (1%)"
   ]
  },
  {
   "cell_type": "markdown",
   "metadata": {},
   "source": [
    "Para uma confiança mínima de 0.3, usando o mesmo suporte mínimo de 0.1 obtemos a seguinte quantidade de associações:"
   ]
  },
  {
   "cell_type": "code",
   "execution_count": 173,
   "metadata": {},
   "outputs": [
    {
     "data": {
      "text/plain": [
       "125"
      ]
     },
     "execution_count": 173,
     "metadata": {},
     "output_type": "execute_result"
    }
   ],
   "source": [
    "regras = association_rules(frequencia_itens_conjunto, metric=\"confidence\", min_threshold=0.3)\n",
    "len(regras.index)"
   ]
  },
  {
   "cell_type": "markdown",
   "metadata": {},
   "source": [
    "Para saber quais associações são as mais confiaveis alem de ordenar por confiabilidade precisamos verificar o lift, para verificar a relevancia dos dados.\n",
    "\n",
    "Dessas associações a 5 mais confiaveis são"
   ]
  },
  {
   "cell_type": "code",
   "execution_count": 174,
   "metadata": {},
   "outputs": [
    {
     "data": {
      "text/html": [
       "<div>\n",
       "<style scoped>\n",
       "    .dataframe tbody tr th:only-of-type {\n",
       "        vertical-align: middle;\n",
       "    }\n",
       "\n",
       "    .dataframe tbody tr th {\n",
       "        vertical-align: top;\n",
       "    }\n",
       "\n",
       "    .dataframe thead th {\n",
       "        text-align: right;\n",
       "    }\n",
       "</style>\n",
       "<table border=\"1\" class=\"dataframe\">\n",
       "  <thead>\n",
       "    <tr style=\"text-align: right;\">\n",
       "      <th></th>\n",
       "      <th>antecedents</th>\n",
       "      <th>consequents</th>\n",
       "      <th>support</th>\n",
       "      <th>confidence</th>\n",
       "      <th>lift</th>\n",
       "    </tr>\n",
       "  </thead>\n",
       "  <tbody>\n",
       "    <tr>\n",
       "      <th>74</th>\n",
       "      <td>(other vegetables, citrus fruit)</td>\n",
       "      <td>(root vegetables)</td>\n",
       "      <td>0.010371</td>\n",
       "      <td>0.359155</td>\n",
       "      <td>3.295045</td>\n",
       "    </tr>\n",
       "    <tr>\n",
       "      <th>96</th>\n",
       "      <td>(other vegetables, tropical fruit)</td>\n",
       "      <td>(root vegetables)</td>\n",
       "      <td>0.012303</td>\n",
       "      <td>0.342776</td>\n",
       "      <td>3.144780</td>\n",
       "    </tr>\n",
       "    <tr>\n",
       "      <th>1</th>\n",
       "      <td>(beef)</td>\n",
       "      <td>(root vegetables)</td>\n",
       "      <td>0.017387</td>\n",
       "      <td>0.331395</td>\n",
       "      <td>3.040367</td>\n",
       "    </tr>\n",
       "    <tr>\n",
       "      <th>73</th>\n",
       "      <td>(root vegetables, citrus fruit)</td>\n",
       "      <td>(other vegetables)</td>\n",
       "      <td>0.010371</td>\n",
       "      <td>0.586207</td>\n",
       "      <td>3.029608</td>\n",
       "    </tr>\n",
       "    <tr>\n",
       "      <th>95</th>\n",
       "      <td>(root vegetables, tropical fruit)</td>\n",
       "      <td>(other vegetables)</td>\n",
       "      <td>0.012303</td>\n",
       "      <td>0.584541</td>\n",
       "      <td>3.020999</td>\n",
       "    </tr>\n",
       "  </tbody>\n",
       "</table>\n",
       "</div>"
      ],
      "text/plain": [
       "                           antecedents         consequents   support  \\\n",
       "74    (other vegetables, citrus fruit)   (root vegetables)  0.010371   \n",
       "96  (other vegetables, tropical fruit)   (root vegetables)  0.012303   \n",
       "1                               (beef)   (root vegetables)  0.017387   \n",
       "73     (root vegetables, citrus fruit)  (other vegetables)  0.010371   \n",
       "95   (root vegetables, tropical fruit)  (other vegetables)  0.012303   \n",
       "\n",
       "    confidence      lift  \n",
       "74    0.359155  3.295045  \n",
       "96    0.342776  3.144780  \n",
       "1     0.331395  3.040367  \n",
       "73    0.586207  3.029608  \n",
       "95    0.584541  3.020999  "
      ]
     },
     "execution_count": 174,
     "metadata": {},
     "output_type": "execute_result"
    }
   ],
   "source": [
    "regras.sort_values(by=['lift'], ascending = False).drop(['antecedent support', 'consequent support', 'leverage', 'conviction'], axis=1).head(5)"
   ]
  },
  {
   "cell_type": "markdown",
   "metadata": {},
   "source": [
    "As 5 menos confiaveis: "
   ]
  },
  {
   "cell_type": "code",
   "execution_count": 175,
   "metadata": {},
   "outputs": [
    {
     "data": {
      "text/html": [
       "<div>\n",
       "<style scoped>\n",
       "    .dataframe tbody tr th:only-of-type {\n",
       "        vertical-align: middle;\n",
       "    }\n",
       "\n",
       "    .dataframe tbody tr th {\n",
       "        vertical-align: top;\n",
       "    }\n",
       "\n",
       "    .dataframe thead th {\n",
       "        text-align: right;\n",
       "    }\n",
       "</style>\n",
       "<table border=\"1\" class=\"dataframe\">\n",
       "  <thead>\n",
       "    <tr style=\"text-align: right;\">\n",
       "      <th></th>\n",
       "      <th>antecedents</th>\n",
       "      <th>consequents</th>\n",
       "      <th>support</th>\n",
       "      <th>confidence</th>\n",
       "      <th>lift</th>\n",
       "    </tr>\n",
       "  </thead>\n",
       "  <tbody>\n",
       "    <tr>\n",
       "      <th>59</th>\n",
       "      <td>(rolls/buns)</td>\n",
       "      <td>(whole milk)</td>\n",
       "      <td>0.056634</td>\n",
       "      <td>0.307905</td>\n",
       "      <td>1.205032</td>\n",
       "    </tr>\n",
       "    <tr>\n",
       "      <th>6</th>\n",
       "      <td>(bottled water)</td>\n",
       "      <td>(whole milk)</td>\n",
       "      <td>0.034367</td>\n",
       "      <td>0.310948</td>\n",
       "      <td>1.216940</td>\n",
       "    </tr>\n",
       "    <tr>\n",
       "      <th>61</th>\n",
       "      <td>(sausage)</td>\n",
       "      <td>(whole milk)</td>\n",
       "      <td>0.029893</td>\n",
       "      <td>0.318182</td>\n",
       "      <td>1.245252</td>\n",
       "    </tr>\n",
       "    <tr>\n",
       "      <th>17</th>\n",
       "      <td>(coffee)</td>\n",
       "      <td>(whole milk)</td>\n",
       "      <td>0.018709</td>\n",
       "      <td>0.322242</td>\n",
       "      <td>1.261141</td>\n",
       "    </tr>\n",
       "    <tr>\n",
       "      <th>65</th>\n",
       "      <td>(waffles)</td>\n",
       "      <td>(whole milk)</td>\n",
       "      <td>0.012710</td>\n",
       "      <td>0.330688</td>\n",
       "      <td>1.294196</td>\n",
       "    </tr>\n",
       "  </tbody>\n",
       "</table>\n",
       "</div>"
      ],
      "text/plain": [
       "        antecedents   consequents   support  confidence      lift\n",
       "59     (rolls/buns)  (whole milk)  0.056634    0.307905  1.205032\n",
       "6   (bottled water)  (whole milk)  0.034367    0.310948  1.216940\n",
       "61        (sausage)  (whole milk)  0.029893    0.318182  1.245252\n",
       "17         (coffee)  (whole milk)  0.018709    0.322242  1.261141\n",
       "65        (waffles)  (whole milk)  0.012710    0.330688  1.294196"
      ]
     },
     "execution_count": 175,
     "metadata": {},
     "output_type": "execute_result"
    }
   ],
   "source": [
    "regras.sort_values(by=['lift'], ascending = True).drop(['antecedent support', 'consequent support', 'leverage', 'conviction'], axis=1).head(5)"
   ]
  },
  {
   "cell_type": "markdown",
   "metadata": {},
   "source": [
    "As confianca baseada no lift vai nos dá os produtos mais relevantes das compras, ou seja, quem comprou determinado item a chance dele comprar esse outro é maior/menor.\n",
    "\n",
    "Quanto maior o valor do lift maior a associação."
   ]
  },
  {
   "cell_type": "markdown",
   "metadata": {},
   "source": [
    "Para uma confiança mínima de 0.5 temos a seguinte regra e quamtidade de associações"
   ]
  },
  {
   "cell_type": "code",
   "execution_count": 176,
   "metadata": {},
   "outputs": [
    {
     "data": {
      "text/plain": [
       "15"
      ]
     },
     "execution_count": 176,
     "metadata": {},
     "output_type": "execute_result"
    }
   ],
   "source": [
    "regras = association_rules(frequencia_itens_conjunto, metric=\"confidence\", min_threshold=0.5)\n",
    "len(regras.index)"
   ]
  },
  {
   "cell_type": "markdown",
   "metadata": {},
   "source": [
    "As 5 mais confiaveis com confiança mínima de 0.5 são:"
   ]
  },
  {
   "cell_type": "code",
   "execution_count": 177,
   "metadata": {},
   "outputs": [
    {
     "data": {
      "text/html": [
       "<div>\n",
       "<style scoped>\n",
       "    .dataframe tbody tr th:only-of-type {\n",
       "        vertical-align: middle;\n",
       "    }\n",
       "\n",
       "    .dataframe tbody tr th {\n",
       "        vertical-align: top;\n",
       "    }\n",
       "\n",
       "    .dataframe thead th {\n",
       "        text-align: right;\n",
       "    }\n",
       "</style>\n",
       "<table border=\"1\" class=\"dataframe\">\n",
       "  <thead>\n",
       "    <tr style=\"text-align: right;\">\n",
       "      <th></th>\n",
       "      <th>antecedents</th>\n",
       "      <th>consequents</th>\n",
       "      <th>support</th>\n",
       "      <th>confidence</th>\n",
       "      <th>lift</th>\n",
       "    </tr>\n",
       "  </thead>\n",
       "  <tbody>\n",
       "    <tr>\n",
       "      <th>1</th>\n",
       "      <td>(root vegetables, citrus fruit)</td>\n",
       "      <td>(other vegetables)</td>\n",
       "      <td>0.010371</td>\n",
       "      <td>0.586207</td>\n",
       "      <td>3.029608</td>\n",
       "    </tr>\n",
       "    <tr>\n",
       "      <th>6</th>\n",
       "      <td>(root vegetables, tropical fruit)</td>\n",
       "      <td>(other vegetables)</td>\n",
       "      <td>0.012303</td>\n",
       "      <td>0.584541</td>\n",
       "      <td>3.020999</td>\n",
       "    </tr>\n",
       "    <tr>\n",
       "      <th>5</th>\n",
       "      <td>(root vegetables, rolls/buns)</td>\n",
       "      <td>(other vegetables)</td>\n",
       "      <td>0.012201</td>\n",
       "      <td>0.502092</td>\n",
       "      <td>2.594890</td>\n",
       "    </tr>\n",
       "    <tr>\n",
       "      <th>7</th>\n",
       "      <td>(root vegetables, yogurt)</td>\n",
       "      <td>(other vegetables)</td>\n",
       "      <td>0.012913</td>\n",
       "      <td>0.500000</td>\n",
       "      <td>2.584078</td>\n",
       "    </tr>\n",
       "    <tr>\n",
       "      <th>2</th>\n",
       "      <td>(curd, yogurt)</td>\n",
       "      <td>(whole milk)</td>\n",
       "      <td>0.010066</td>\n",
       "      <td>0.582353</td>\n",
       "      <td>2.279125</td>\n",
       "    </tr>\n",
       "  </tbody>\n",
       "</table>\n",
       "</div>"
      ],
      "text/plain": [
       "                         antecedents         consequents   support  \\\n",
       "1    (root vegetables, citrus fruit)  (other vegetables)  0.010371   \n",
       "6  (root vegetables, tropical fruit)  (other vegetables)  0.012303   \n",
       "5      (root vegetables, rolls/buns)  (other vegetables)  0.012201   \n",
       "7          (root vegetables, yogurt)  (other vegetables)  0.012913   \n",
       "2                     (curd, yogurt)        (whole milk)  0.010066   \n",
       "\n",
       "   confidence      lift  \n",
       "1    0.586207  3.029608  \n",
       "6    0.584541  3.020999  \n",
       "5    0.502092  2.594890  \n",
       "7    0.500000  2.584078  \n",
       "2    0.582353  2.279125  "
      ]
     },
     "execution_count": 177,
     "metadata": {},
     "output_type": "execute_result"
    }
   ],
   "source": [
    "regras.sort_values(by=['lift'], ascending = False).drop(['antecedent support', 'consequent support', 'leverage', 'conviction'], axis=1).head(5)"
   ]
  },
  {
   "cell_type": "markdown",
   "metadata": {},
   "source": [
    "As 5 mais fracas (confiança minima de 0.5)"
   ]
  },
  {
   "cell_type": "code",
   "execution_count": 178,
   "metadata": {},
   "outputs": [
    {
     "data": {
      "text/html": [
       "<div>\n",
       "<style scoped>\n",
       "    .dataframe tbody tr th:only-of-type {\n",
       "        vertical-align: middle;\n",
       "    }\n",
       "\n",
       "    .dataframe tbody tr th {\n",
       "        vertical-align: top;\n",
       "    }\n",
       "\n",
       "    .dataframe thead th {\n",
       "        text-align: right;\n",
       "    }\n",
       "</style>\n",
       "<table border=\"1\" class=\"dataframe\">\n",
       "  <thead>\n",
       "    <tr style=\"text-align: right;\">\n",
       "      <th></th>\n",
       "      <th>antecedents</th>\n",
       "      <th>consequents</th>\n",
       "      <th>support</th>\n",
       "      <th>confidence</th>\n",
       "      <th>lift</th>\n",
       "    </tr>\n",
       "  </thead>\n",
       "  <tbody>\n",
       "    <tr>\n",
       "      <th>8</th>\n",
       "      <td>(other vegetables, whipped/sour cream)</td>\n",
       "      <td>(whole milk)</td>\n",
       "      <td>0.014642</td>\n",
       "      <td>0.507042</td>\n",
       "      <td>1.984385</td>\n",
       "    </tr>\n",
       "    <tr>\n",
       "      <th>9</th>\n",
       "      <td>(other vegetables, yogurt)</td>\n",
       "      <td>(whole milk)</td>\n",
       "      <td>0.022267</td>\n",
       "      <td>0.512881</td>\n",
       "      <td>2.007235</td>\n",
       "    </tr>\n",
       "    <tr>\n",
       "      <th>13</th>\n",
       "      <td>(yogurt, tropical fruit)</td>\n",
       "      <td>(whole milk)</td>\n",
       "      <td>0.015150</td>\n",
       "      <td>0.517361</td>\n",
       "      <td>2.024770</td>\n",
       "    </tr>\n",
       "    <tr>\n",
       "      <th>4</th>\n",
       "      <td>(other vegetables, pip fruit)</td>\n",
       "      <td>(whole milk)</td>\n",
       "      <td>0.013523</td>\n",
       "      <td>0.517510</td>\n",
       "      <td>2.025351</td>\n",
       "    </tr>\n",
       "    <tr>\n",
       "      <th>10</th>\n",
       "      <td>(root vegetables, rolls/buns)</td>\n",
       "      <td>(whole milk)</td>\n",
       "      <td>0.012710</td>\n",
       "      <td>0.523013</td>\n",
       "      <td>2.046888</td>\n",
       "    </tr>\n",
       "  </tbody>\n",
       "</table>\n",
       "</div>"
      ],
      "text/plain": [
       "                               antecedents   consequents   support  \\\n",
       "8   (other vegetables, whipped/sour cream)  (whole milk)  0.014642   \n",
       "9               (other vegetables, yogurt)  (whole milk)  0.022267   \n",
       "13                (yogurt, tropical fruit)  (whole milk)  0.015150   \n",
       "4            (other vegetables, pip fruit)  (whole milk)  0.013523   \n",
       "10           (root vegetables, rolls/buns)  (whole milk)  0.012710   \n",
       "\n",
       "    confidence      lift  \n",
       "8     0.507042  1.984385  \n",
       "9     0.512881  2.007235  \n",
       "13    0.517361  2.024770  \n",
       "4     0.517510  2.025351  \n",
       "10    0.523013  2.046888  "
      ]
     },
     "execution_count": 178,
     "metadata": {},
     "output_type": "execute_result"
    }
   ],
   "source": [
    "regras.sort_values(by=['lift'], ascending = True).drop(['antecedent support', 'consequent support', 'leverage', 'conviction'], axis=1).head(5)"
   ]
  },
  {
   "cell_type": "code",
   "execution_count": 179,
   "metadata": {},
   "outputs": [
    {
     "data": {
      "text/plain": [
       "0"
      ]
     },
     "execution_count": 179,
     "metadata": {},
     "output_type": "execute_result"
    }
   ],
   "source": [
    "regras = association_rules(frequencia_itens_conjunto, metric=\"confidence\", min_threshold=0.7)\n",
    "len(regras.index)"
   ]
  },
  {
   "cell_type": "code",
   "execution_count": 180,
   "metadata": {},
   "outputs": [
    {
     "data": {
      "text/html": [
       "<div>\n",
       "<style scoped>\n",
       "    .dataframe tbody tr th:only-of-type {\n",
       "        vertical-align: middle;\n",
       "    }\n",
       "\n",
       "    .dataframe tbody tr th {\n",
       "        vertical-align: top;\n",
       "    }\n",
       "\n",
       "    .dataframe thead th {\n",
       "        text-align: right;\n",
       "    }\n",
       "</style>\n",
       "<table border=\"1\" class=\"dataframe\">\n",
       "  <thead>\n",
       "    <tr style=\"text-align: right;\">\n",
       "      <th></th>\n",
       "      <th>antecedents</th>\n",
       "      <th>consequents</th>\n",
       "      <th>support</th>\n",
       "      <th>confidence</th>\n",
       "      <th>lift</th>\n",
       "    </tr>\n",
       "  </thead>\n",
       "  <tbody>\n",
       "  </tbody>\n",
       "</table>\n",
       "</div>"
      ],
      "text/plain": [
       "Empty DataFrame\n",
       "Columns: [antecedents, consequents, support, confidence, lift]\n",
       "Index: []"
      ]
     },
     "execution_count": 180,
     "metadata": {},
     "output_type": "execute_result"
    }
   ],
   "source": [
    "regras.sort_values(by=['lift'], ascending = False).drop(['antecedent support', 'consequent support', 'leverage', 'conviction'], axis=1).head(5)"
   ]
  },
  {
   "cell_type": "code",
   "execution_count": 181,
   "metadata": {},
   "outputs": [
    {
     "data": {
      "text/html": [
       "<div>\n",
       "<style scoped>\n",
       "    .dataframe tbody tr th:only-of-type {\n",
       "        vertical-align: middle;\n",
       "    }\n",
       "\n",
       "    .dataframe tbody tr th {\n",
       "        vertical-align: top;\n",
       "    }\n",
       "\n",
       "    .dataframe thead th {\n",
       "        text-align: right;\n",
       "    }\n",
       "</style>\n",
       "<table border=\"1\" class=\"dataframe\">\n",
       "  <thead>\n",
       "    <tr style=\"text-align: right;\">\n",
       "      <th></th>\n",
       "      <th>antecedents</th>\n",
       "      <th>consequents</th>\n",
       "      <th>support</th>\n",
       "      <th>confidence</th>\n",
       "      <th>lift</th>\n",
       "    </tr>\n",
       "  </thead>\n",
       "  <tbody>\n",
       "  </tbody>\n",
       "</table>\n",
       "</div>"
      ],
      "text/plain": [
       "Empty DataFrame\n",
       "Columns: [antecedents, consequents, support, confidence, lift]\n",
       "Index: []"
      ]
     },
     "execution_count": 181,
     "metadata": {},
     "output_type": "execute_result"
    }
   ],
   "source": [
    "regras.sort_values(by=['lift'], ascending = True).drop(['antecedent support', 'consequent support', 'leverage', 'conviction'], axis=1).head(5)"
   ]
  },
  {
   "cell_type": "markdown",
   "metadata": {},
   "source": [
    "Associações mais fortes de acordo com o lift? (Lift > 1)"
   ]
  },
  {
   "cell_type": "markdown",
   "metadata": {},
   "source": [
    "Para verificar as associações mais forte com lift > 1 precisamos de uma certa pocentagem de confiança no resultado, usando uma confiança minima de 50% e verificar os que mais saem"
   ]
  },
  {
   "cell_type": "code",
   "execution_count": 209,
   "metadata": {},
   "outputs": [
    {
     "data": {
      "text/html": [
       "<div>\n",
       "<style scoped>\n",
       "    .dataframe tbody tr th:only-of-type {\n",
       "        vertical-align: middle;\n",
       "    }\n",
       "\n",
       "    .dataframe tbody tr th {\n",
       "        vertical-align: top;\n",
       "    }\n",
       "\n",
       "    .dataframe thead th {\n",
       "        text-align: right;\n",
       "    }\n",
       "</style>\n",
       "<table border=\"1\" class=\"dataframe\">\n",
       "  <thead>\n",
       "    <tr style=\"text-align: right;\">\n",
       "      <th></th>\n",
       "      <th>antecedents</th>\n",
       "      <th>consequents</th>\n",
       "      <th>support</th>\n",
       "      <th>confidence</th>\n",
       "      <th>lift</th>\n",
       "    </tr>\n",
       "  </thead>\n",
       "  <tbody>\n",
       "    <tr>\n",
       "      <th>1</th>\n",
       "      <td>(root vegetables, citrus fruit)</td>\n",
       "      <td>(other vegetables)</td>\n",
       "      <td>0.010371</td>\n",
       "      <td>0.586207</td>\n",
       "      <td>3.029608</td>\n",
       "    </tr>\n",
       "    <tr>\n",
       "      <th>6</th>\n",
       "      <td>(root vegetables, tropical fruit)</td>\n",
       "      <td>(other vegetables)</td>\n",
       "      <td>0.012303</td>\n",
       "      <td>0.584541</td>\n",
       "      <td>3.020999</td>\n",
       "    </tr>\n",
       "    <tr>\n",
       "      <th>5</th>\n",
       "      <td>(root vegetables, rolls/buns)</td>\n",
       "      <td>(other vegetables)</td>\n",
       "      <td>0.012201</td>\n",
       "      <td>0.502092</td>\n",
       "      <td>2.594890</td>\n",
       "    </tr>\n",
       "    <tr>\n",
       "      <th>7</th>\n",
       "      <td>(root vegetables, yogurt)</td>\n",
       "      <td>(other vegetables)</td>\n",
       "      <td>0.012913</td>\n",
       "      <td>0.500000</td>\n",
       "      <td>2.584078</td>\n",
       "    </tr>\n",
       "    <tr>\n",
       "      <th>2</th>\n",
       "      <td>(curd, yogurt)</td>\n",
       "      <td>(whole milk)</td>\n",
       "      <td>0.010066</td>\n",
       "      <td>0.582353</td>\n",
       "      <td>2.279125</td>\n",
       "    </tr>\n",
       "    <tr>\n",
       "      <th>0</th>\n",
       "      <td>(butter, other vegetables)</td>\n",
       "      <td>(whole milk)</td>\n",
       "      <td>0.011490</td>\n",
       "      <td>0.573604</td>\n",
       "      <td>2.244885</td>\n",
       "    </tr>\n",
       "    <tr>\n",
       "      <th>11</th>\n",
       "      <td>(root vegetables, tropical fruit)</td>\n",
       "      <td>(whole milk)</td>\n",
       "      <td>0.011998</td>\n",
       "      <td>0.570048</td>\n",
       "      <td>2.230969</td>\n",
       "    </tr>\n",
       "    <tr>\n",
       "      <th>12</th>\n",
       "      <td>(root vegetables, yogurt)</td>\n",
       "      <td>(whole milk)</td>\n",
       "      <td>0.014540</td>\n",
       "      <td>0.562992</td>\n",
       "      <td>2.203354</td>\n",
       "    </tr>\n",
       "    <tr>\n",
       "      <th>3</th>\n",
       "      <td>(domestic eggs, other vegetables)</td>\n",
       "      <td>(whole milk)</td>\n",
       "      <td>0.012303</td>\n",
       "      <td>0.552511</td>\n",
       "      <td>2.162336</td>\n",
       "    </tr>\n",
       "    <tr>\n",
       "      <th>14</th>\n",
       "      <td>(yogurt, whipped/sour cream)</td>\n",
       "      <td>(whole milk)</td>\n",
       "      <td>0.010880</td>\n",
       "      <td>0.524510</td>\n",
       "      <td>2.052747</td>\n",
       "    </tr>\n",
       "    <tr>\n",
       "      <th>10</th>\n",
       "      <td>(root vegetables, rolls/buns)</td>\n",
       "      <td>(whole milk)</td>\n",
       "      <td>0.012710</td>\n",
       "      <td>0.523013</td>\n",
       "      <td>2.046888</td>\n",
       "    </tr>\n",
       "    <tr>\n",
       "      <th>4</th>\n",
       "      <td>(other vegetables, pip fruit)</td>\n",
       "      <td>(whole milk)</td>\n",
       "      <td>0.013523</td>\n",
       "      <td>0.517510</td>\n",
       "      <td>2.025351</td>\n",
       "    </tr>\n",
       "    <tr>\n",
       "      <th>13</th>\n",
       "      <td>(yogurt, tropical fruit)</td>\n",
       "      <td>(whole milk)</td>\n",
       "      <td>0.015150</td>\n",
       "      <td>0.517361</td>\n",
       "      <td>2.024770</td>\n",
       "    </tr>\n",
       "    <tr>\n",
       "      <th>9</th>\n",
       "      <td>(other vegetables, yogurt)</td>\n",
       "      <td>(whole milk)</td>\n",
       "      <td>0.022267</td>\n",
       "      <td>0.512881</td>\n",
       "      <td>2.007235</td>\n",
       "    </tr>\n",
       "    <tr>\n",
       "      <th>8</th>\n",
       "      <td>(other vegetables, whipped/sour cream)</td>\n",
       "      <td>(whole milk)</td>\n",
       "      <td>0.014642</td>\n",
       "      <td>0.507042</td>\n",
       "      <td>1.984385</td>\n",
       "    </tr>\n",
       "  </tbody>\n",
       "</table>\n",
       "</div>"
      ],
      "text/plain": [
       "                               antecedents         consequents   support  \\\n",
       "1          (root vegetables, citrus fruit)  (other vegetables)  0.010371   \n",
       "6        (root vegetables, tropical fruit)  (other vegetables)  0.012303   \n",
       "5            (root vegetables, rolls/buns)  (other vegetables)  0.012201   \n",
       "7                (root vegetables, yogurt)  (other vegetables)  0.012913   \n",
       "2                           (curd, yogurt)        (whole milk)  0.010066   \n",
       "0               (butter, other vegetables)        (whole milk)  0.011490   \n",
       "11       (root vegetables, tropical fruit)        (whole milk)  0.011998   \n",
       "12               (root vegetables, yogurt)        (whole milk)  0.014540   \n",
       "3        (domestic eggs, other vegetables)        (whole milk)  0.012303   \n",
       "14            (yogurt, whipped/sour cream)        (whole milk)  0.010880   \n",
       "10           (root vegetables, rolls/buns)        (whole milk)  0.012710   \n",
       "4            (other vegetables, pip fruit)        (whole milk)  0.013523   \n",
       "13                (yogurt, tropical fruit)        (whole milk)  0.015150   \n",
       "9               (other vegetables, yogurt)        (whole milk)  0.022267   \n",
       "8   (other vegetables, whipped/sour cream)        (whole milk)  0.014642   \n",
       "\n",
       "    confidence      lift  \n",
       "1     0.586207  3.029608  \n",
       "6     0.584541  3.020999  \n",
       "5     0.502092  2.594890  \n",
       "7     0.500000  2.584078  \n",
       "2     0.582353  2.279125  \n",
       "0     0.573604  2.244885  \n",
       "11    0.570048  2.230969  \n",
       "12    0.562992  2.203354  \n",
       "3     0.552511  2.162336  \n",
       "14    0.524510  2.052747  \n",
       "10    0.523013  2.046888  \n",
       "4     0.517510  2.025351  \n",
       "13    0.517361  2.024770  \n",
       "9     0.512881  2.007235  \n",
       "8     0.507042  1.984385  "
      ]
     },
     "execution_count": 209,
     "metadata": {},
     "output_type": "execute_result"
    }
   ],
   "source": [
    "regras = association_rules(frequencia_itens_conjunto, metric=\"lift\", min_threshold=1)\n",
    "\n",
    "regras = association_rules(frequencia_itens_conjunto, metric=\"confidence\", min_threshold=0.5)\n",
    "regras.sort_values(by=['lift'], ascending = False).drop(['antecedent support', 'consequent support', 'leverage', 'conviction'], axis=1)"
   ]
  },
  {
   "cell_type": "markdown",
   "metadata": {},
   "source": [
    "Defina um limiar para o que seria uma alta confiança. Quais as associações que possuem\n",
    "alta confiança, porém lift < 1?"
   ]
  },
  {
   "cell_type": "code",
   "execution_count": 210,
   "metadata": {},
   "outputs": [
    {
     "data": {
      "text/html": [
       "<div>\n",
       "<style scoped>\n",
       "    .dataframe tbody tr th:only-of-type {\n",
       "        vertical-align: middle;\n",
       "    }\n",
       "\n",
       "    .dataframe tbody tr th {\n",
       "        vertical-align: top;\n",
       "    }\n",
       "\n",
       "    .dataframe thead th {\n",
       "        text-align: right;\n",
       "    }\n",
       "</style>\n",
       "<table border=\"1\" class=\"dataframe\">\n",
       "  <thead>\n",
       "    <tr style=\"text-align: right;\">\n",
       "      <th></th>\n",
       "      <th>antecedents</th>\n",
       "      <th>consequents</th>\n",
       "      <th>antecedent support</th>\n",
       "      <th>consequent support</th>\n",
       "      <th>support</th>\n",
       "      <th>confidence</th>\n",
       "      <th>lift</th>\n",
       "      <th>leverage</th>\n",
       "      <th>conviction</th>\n",
       "    </tr>\n",
       "  </thead>\n",
       "  <tbody>\n",
       "  </tbody>\n",
       "</table>\n",
       "</div>"
      ],
      "text/plain": [
       "Empty DataFrame\n",
       "Columns: [antecedents, consequents, antecedent support, consequent support, support, confidence, lift, leverage, conviction]\n",
       "Index: []"
      ]
     },
     "execution_count": 210,
     "metadata": {},
     "output_type": "execute_result"
    }
   ],
   "source": [
    "regras[(regras['lift'] < 1) ]\n"
   ]
  },
  {
   "cell_type": "markdown",
   "metadata": {},
   "source": [
    "Uma alta confiança seria um conjunto onde tanto a confiança quanto o lift sejam os maiores de um conjunto, onde a confiança seja em torno de 50%, por exemplo, e lift maior que 1\n",
    "\n",
    "Nesta base de dados nenhum lift é menor que 1."
   ]
  },
  {
   "cell_type": "code",
   "execution_count": null,
   "metadata": {},
   "outputs": [],
   "source": []
  }
 ],
 "metadata": {
  "interpreter": {
   "hash": "3a82fae15122a7ddf8a83b1877904e22eaa2aba71ef905d0d96c96be34254432"
  },
  "kernelspec": {
   "display_name": "Python 3 (ipykernel)",
   "language": "python",
   "name": "python3"
  },
  "language_info": {
   "codemirror_mode": {
    "name": "ipython",
    "version": 3
   },
   "file_extension": ".py",
   "mimetype": "text/x-python",
   "name": "python",
   "nbconvert_exporter": "python",
   "pygments_lexer": "ipython3",
   "version": "3.9.6"
  }
 },
 "nbformat": 4,
 "nbformat_minor": 4
}
